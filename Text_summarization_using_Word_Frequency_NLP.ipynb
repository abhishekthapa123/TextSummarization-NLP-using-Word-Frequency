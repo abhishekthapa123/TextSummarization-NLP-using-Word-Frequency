{
  "nbformat": 4,
  "nbformat_minor": 0,
  "metadata": {
    "colab": {
      "provenance": [],
      "authorship_tag": "ABX9TyPVIQemDORQGWOTvlDoUGt6",
      "include_colab_link": true
    },
    "kernelspec": {
      "name": "python3",
      "display_name": "Python 3"
    },
    "language_info": {
      "name": "python"
    }
  },
  "cells": [
    {
      "cell_type": "markdown",
      "metadata": {
        "id": "view-in-github",
        "colab_type": "text"
      },
      "source": [
        "<a href=\"https://colab.research.google.com/github/abhishekthapa123/TextSummarization-NLP-using-Word-Frequency/blob/master/Text_summarization_using_Word_Frequency_NLP.ipynb\" target=\"_parent\"><img src=\"https://colab.research.google.com/assets/colab-badge.svg\" alt=\"Open In Colab\"/></a>"
      ]
    },
    {
      "metadata": {
        "id": "-44aMwUcQZxm",
        "colab": {
          "base_uri": "https://localhost:8080/"
        },
        "outputId": "a750a610-8854-4dae-fff7-57af14311763"
      },
      "cell_type": "code",
      "source": [
        "# Setup\n",
        "!pip install -q wordcloud\n",
        "import wordcloud\n",
        "\n",
        "import nltk\n",
        "nltk.download('stopwords')\n",
        "nltk.download('wordnet')\n",
        "nltk.download('punkt')\n",
        "nltk.download('averaged_perceptron_tagger') \n",
        "\n",
        "import pandas as pd\n",
        "import matplotlib.pyplot as plt\n",
        "import io\n",
        "import unicodedata\n",
        "import numpy as np\n",
        "import re\n",
        "import string"
      ],
      "execution_count": 1,
      "outputs": [
        {
          "output_type": "stream",
          "name": "stderr",
          "text": [
            "[nltk_data] Downloading package stopwords to /root/nltk_data...\n",
            "[nltk_data]   Package stopwords is already up-to-date!\n",
            "[nltk_data] Downloading package wordnet to /root/nltk_data...\n",
            "[nltk_data]   Package wordnet is already up-to-date!\n",
            "[nltk_data] Downloading package punkt to /root/nltk_data...\n",
            "[nltk_data]   Package punkt is already up-to-date!\n",
            "[nltk_data] Downloading package averaged_perceptron_tagger to\n",
            "[nltk_data]     /root/nltk_data...\n",
            "[nltk_data]   Package averaged_perceptron_tagger is already up-to-\n",
            "[nltk_data]       date!\n"
          ]
        }
      ]
    },
    {
      "cell_type": "code",
      "execution_count": 2,
      "metadata": {
        "id": "SdWRE7yzw85m"
      },
      "outputs": [],
      "source": [
        "#input text article\n",
        "article_texts= \"Pakistans ministry of energy said in a statement that the frequency of the national grid went down at 7:34am (local time) which caused a widespread breakdown in the power system. The ministry later said that the restoration of grid stations was started from Warsak and a limited number of grids of Islamabad Supply Company and Peshawar Supply Company were restored. Pakistan's energy minister Khurram Dastgir, however, maintained that the breakdown was not major. In an interview with Geo News, Dastgir explained that power generation systems are temporarily closed at night during winter due to a reduction in electricity demand. However, when the systems were turned on in the morning, he said, frequency variation and voltage fluctuation were observed in the south power generating units shutting down one by one.\""
      ]
    },
    {
      "cell_type": "code",
      "source": [
        "import re \n",
        "import nltk"
      ],
      "metadata": {
        "id": "y0M9v8FM1QIP"
      },
      "execution_count": 3,
      "outputs": []
    },
    {
      "cell_type": "code",
      "source": [
        "#Data PreProcessing\n",
        "article_texts = article_texts.lower()\n",
        "article_texts"
      ],
      "metadata": {
        "colab": {
          "base_uri": "https://localhost:8080/",
          "height": 122
        },
        "id": "6QmIw3wI1sK4",
        "outputId": "09cd0fab-b686-4d40-9310-0045e3a42f23"
      },
      "execution_count": 4,
      "outputs": [
        {
          "output_type": "execute_result",
          "data": {
            "text/plain": [
              "\"pakistans ministry of energy said in a statement that the frequency of the national grid went down at 7:34am (local time) which caused a widespread breakdown in the power system. the ministry later said that the restoration of grid stations was started from warsak and a limited number of grids of islamabad supply company and peshawar supply company were restored. pakistan's energy minister khurram dastgir, however, maintained that the breakdown was not major. in an interview with geo news, dastgir explained that power generation systems are temporarily closed at night during winter due to a reduction in electricity demand. however, when the systems were turned on in the morning, he said, frequency variation and voltage fluctuation were observed in the south power generating units shutting down one by one.\""
            ],
            "application/vnd.google.colaboratory.intrinsic+json": {
              "type": "string"
            }
          },
          "metadata": {},
          "execution_count": 4
        }
      ]
    },
    {
      "cell_type": "code",
      "source": [
        "#remove spaces,puncutations and numbers\n",
        "clean_texts = re.sub('[^a-zA-Z]', ' ', article_texts)\n",
        "clean_texts = re.sub('\\s+',' ',clean_texts)\n",
        "clean_texts"
      ],
      "metadata": {
        "colab": {
          "base_uri": "https://localhost:8080/",
          "height": 105
        },
        "id": "54iKEayW1d8o",
        "outputId": "55c2db8e-6843-4be1-b5e3-ae8c9fdc4f79"
      },
      "execution_count": 5,
      "outputs": [
        {
          "output_type": "execute_result",
          "data": {
            "text/plain": [
              "'pakistans ministry of energy said in a statement that the frequency of the national grid went down at am local time which caused a widespread breakdown in the power system the ministry later said that the restoration of grid stations was started from warsak and a limited number of grids of islamabad supply company and peshawar supply company were restored pakistan s energy minister khurram dastgir however maintained that the breakdown was not major in an interview with geo news dastgir explained that power generation systems are temporarily closed at night during winter due to a reduction in electricity demand however when the systems were turned on in the morning he said frequency variation and voltage fluctuation were observed in the south power generating units shutting down one by one '"
            ],
            "application/vnd.google.colaboratory.intrinsic+json": {
              "type": "string"
            }
          },
          "metadata": {},
          "execution_count": 5
        }
      ]
    },
    {
      "cell_type": "code",
      "source": [
        "#split into sentence list\n",
        "sentence_list = nltk.sent_tokenize(article_texts)\n",
        "sentence_list"
      ],
      "metadata": {
        "colab": {
          "base_uri": "https://localhost:8080/"
        },
        "id": "Xg2QO2sY4YK1",
        "outputId": "7bd70b93-5eb2-4747-9fa1-d3b0b125aaf2"
      },
      "execution_count": 6,
      "outputs": [
        {
          "output_type": "execute_result",
          "data": {
            "text/plain": [
              "['pakistans ministry of energy said in a statement that the frequency of the national grid went down at 7:34am (local time) which caused a widespread breakdown in the power system.',\n",
              " 'the ministry later said that the restoration of grid stations was started from warsak and a limited number of grids of islamabad supply company and peshawar supply company were restored.',\n",
              " \"pakistan's energy minister khurram dastgir, however, maintained that the breakdown was not major.\",\n",
              " 'in an interview with geo news, dastgir explained that power generation systems are temporarily closed at night during winter due to a reduction in electricity demand.',\n",
              " 'however, when the systems were turned on in the morning, he said, frequency variation and voltage fluctuation were observed in the south power generating units shutting down one by one.']"
            ]
          },
          "metadata": {},
          "execution_count": 6
        }
      ]
    },
    {
      "cell_type": "code",
      "source": [
        "stopwords= nltk.corpus.stopwords.words('english')\n",
        "word_frequencies = {}\n",
        "for word in nltk.word_tokenize(clean_texts):\n",
        "  if word not in stopwords:\n",
        "    if word not in word_frequencies:\n",
        "      word_frequencies[word] = 1\n",
        "    else:\n",
        "      word_frequencies[word]+= 1\n"
      ],
      "metadata": {
        "id": "O2vqN9RW5VuV"
      },
      "execution_count": 7,
      "outputs": []
    },
    {
      "cell_type": "code",
      "source": [
        "maximum_frequency = max(word_frequencies.values())\n",
        "for word in word_frequencies:\n",
        "  word_frequencies[word] = word_frequencies[word] / maximum_frequency"
      ],
      "metadata": {
        "id": "G_E1hO5b5ovf"
      },
      "execution_count": 8,
      "outputs": []
    },
    {
      "cell_type": "code",
      "source": [
        "#Calculate Sentence Scores\n",
        "sentence_scores = {}\n",
        "for sentence in sentence_list:\n",
        "  for word in nltk.word_tokenize(sentence):\n",
        "    if word in word_frequencies and len(sentence.split(' ')) < 30:\n",
        "      if sentence not in sentence_scores:\n",
        "        sentence_scores[sentence] = word_frequencies[word]\n",
        "      else:\n",
        "        sentence_scores[sentence] += word_frequencies[word]\n"
      ],
      "metadata": {
        "id": "Hbqlp1Ig6_Us"
      },
      "execution_count": 9,
      "outputs": []
    },
    {
      "cell_type": "code",
      "source": [
        "word_frequencies"
      ],
      "metadata": {
        "colab": {
          "base_uri": "https://localhost:8080/"
        },
        "id": "yNMMCmuq88bO",
        "outputId": "336d9ef3-6c42-4722-8feb-09ecea7174aa"
      },
      "execution_count": 10,
      "outputs": [
        {
          "output_type": "execute_result",
          "data": {
            "text/plain": [
              "{'pakistans': 0.3333333333333333,\n",
              " 'ministry': 0.6666666666666666,\n",
              " 'energy': 0.6666666666666666,\n",
              " 'said': 1.0,\n",
              " 'statement': 0.3333333333333333,\n",
              " 'frequency': 0.6666666666666666,\n",
              " 'national': 0.3333333333333333,\n",
              " 'grid': 0.6666666666666666,\n",
              " 'went': 0.3333333333333333,\n",
              " 'local': 0.3333333333333333,\n",
              " 'time': 0.3333333333333333,\n",
              " 'caused': 0.3333333333333333,\n",
              " 'widespread': 0.3333333333333333,\n",
              " 'breakdown': 0.6666666666666666,\n",
              " 'power': 1.0,\n",
              " 'system': 0.3333333333333333,\n",
              " 'later': 0.3333333333333333,\n",
              " 'restoration': 0.3333333333333333,\n",
              " 'stations': 0.3333333333333333,\n",
              " 'started': 0.3333333333333333,\n",
              " 'warsak': 0.3333333333333333,\n",
              " 'limited': 0.3333333333333333,\n",
              " 'number': 0.3333333333333333,\n",
              " 'grids': 0.3333333333333333,\n",
              " 'islamabad': 0.3333333333333333,\n",
              " 'supply': 0.6666666666666666,\n",
              " 'company': 0.6666666666666666,\n",
              " 'peshawar': 0.3333333333333333,\n",
              " 'restored': 0.3333333333333333,\n",
              " 'pakistan': 0.3333333333333333,\n",
              " 'minister': 0.3333333333333333,\n",
              " 'khurram': 0.3333333333333333,\n",
              " 'dastgir': 0.6666666666666666,\n",
              " 'however': 0.6666666666666666,\n",
              " 'maintained': 0.3333333333333333,\n",
              " 'major': 0.3333333333333333,\n",
              " 'interview': 0.3333333333333333,\n",
              " 'geo': 0.3333333333333333,\n",
              " 'news': 0.3333333333333333,\n",
              " 'explained': 0.3333333333333333,\n",
              " 'generation': 0.3333333333333333,\n",
              " 'systems': 0.6666666666666666,\n",
              " 'temporarily': 0.3333333333333333,\n",
              " 'closed': 0.3333333333333333,\n",
              " 'night': 0.3333333333333333,\n",
              " 'winter': 0.3333333333333333,\n",
              " 'due': 0.3333333333333333,\n",
              " 'reduction': 0.3333333333333333,\n",
              " 'electricity': 0.3333333333333333,\n",
              " 'demand': 0.3333333333333333,\n",
              " 'turned': 0.3333333333333333,\n",
              " 'morning': 0.3333333333333333,\n",
              " 'variation': 0.3333333333333333,\n",
              " 'voltage': 0.3333333333333333,\n",
              " 'fluctuation': 0.3333333333333333,\n",
              " 'observed': 0.3333333333333333,\n",
              " 'south': 0.3333333333333333,\n",
              " 'generating': 0.3333333333333333,\n",
              " 'units': 0.3333333333333333,\n",
              " 'shutting': 0.3333333333333333,\n",
              " 'one': 0.6666666666666666}"
            ]
          },
          "metadata": {},
          "execution_count": 10
        }
      ]
    },
    {
      "cell_type": "code",
      "source": [
        "sentence_scores"
      ],
      "metadata": {
        "colab": {
          "base_uri": "https://localhost:8080/"
        },
        "id": "L69LgWF78-gg",
        "outputId": "2fbd3aa9-7c9b-4f03-9d8d-a8f1ee9c8817"
      },
      "execution_count": 11,
      "outputs": [
        {
          "output_type": "execute_result",
          "data": {
            "text/plain": [
              "{\"pakistan's energy minister khurram dastgir, however, maintained that the breakdown was not major.\": 4.333333333333333,\n",
              " 'in an interview with geo news, dastgir explained that power generation systems are temporarily closed at night during winter due to a reduction in electricity demand.': 6.666666666666664}"
            ]
          },
          "metadata": {},
          "execution_count": 11
        }
      ]
    },
    {
      "cell_type": "code",
      "source": [
        "#top 5 sentences\n",
        "import heapq\n",
        "summary = heapq.nlargest(10,sentence_scores,key= sentence_scores.get)\n",
        "print(\" \".join(summary))"
      ],
      "metadata": {
        "colab": {
          "base_uri": "https://localhost:8080/"
        },
        "id": "s5WhfqEe9FWP",
        "outputId": "c709c0ca-bd44-45ea-9b38-5520fa4dd56f"
      },
      "execution_count": 14,
      "outputs": [
        {
          "output_type": "stream",
          "name": "stdout",
          "text": [
            "in an interview with geo news, dastgir explained that power generation systems are temporarily closed at night during winter due to a reduction in electricity demand. pakistan's energy minister khurram dastgir, however, maintained that the breakdown was not major.\n"
          ]
        }
      ]
    },
    {
      "cell_type": "code",
      "source": [],
      "metadata": {
        "id": "8OXrSL_b-AQX"
      },
      "execution_count": null,
      "outputs": []
    }
  ]
}